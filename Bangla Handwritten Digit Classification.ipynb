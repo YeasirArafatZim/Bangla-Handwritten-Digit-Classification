{
  "nbformat": 4,
  "nbformat_minor": 0,
  "metadata": {
    "accelerator": "GPU",
    "colab": {
      "name": "Bangla Handwritten Digit Classification NN.ipynb",
      "provenance": [],
      "collapsed_sections": []
    },
    "kernelspec": {
      "display_name": "Python 3",
      "name": "python3"
    }
  },
  "cells": [
    {
      "cell_type": "markdown",
      "metadata": {
        "id": "gSgvI1f8hIII"
      },
      "source": [
        "##**Bengali Handwritten Digits Classification** (0 - 9) Using Nueral Network"
      ]
    },
    {
      "cell_type": "markdown",
      "metadata": {
        "id": "_u3E0-zKCkqr"
      },
      "source": [
        "## Logistic Regression\n",
        "\n",
        "- Logistic regression is a learning algorithm used in a supervised learning\n",
        "problem when the output are all either zero or one.\n",
        "    \n",
        "- The goal of logistic regression is to minimize the error between its\n",
        "predictions and training data.\n",
        "- Output: probability [0, 1] given input belonging to a class\n",
        "\n",
        "\n",
        "\n",
        "**Logistic Regression Example: Positive vs Negative**\n",
        "\n",
        "**Input:** Sequence of Words\n",
        "\n",
        "**Output:** Probability of positive\n",
        "\n",
        "- Input: \"Delivery speed was good\"\n",
        "- Output: **p = 0.8**\n",
        "\n",
        "- Input: \"Terrible Customer Service\"\n",
        "- Output: **p = 0.2**"
      ]
    },
    {
      "cell_type": "markdown",
      "metadata": {
        "id": "SyzBofWXmt0H"
      },
      "source": [
        "**NumtaDB: Bengali Handwritten Digits** is a dataset of Bengali Handwritten. The dataset contains Bangla handwritten digits (0 through 9), and all the images are manually labelled and saved in a CSV file. I use it to train our model to **Classify Bangla Handwritten Digits**.\n",
        "\n",
        "**Dataset Link:** https://www.kaggle.com/BengaliAI/numta/\n",
        "\n",
        "**Snapshot from NumtaDB**\n",
        "\n",
        "<div align=\"center\">\n",
        "<img src=\"https://drive.google.com/uc?id=1LvkNwV1My2RniR_JsbasBET1fa97eMQu\" width=\"500\">\n",
        "</div>\n"
      ]
    },
    {
      "cell_type": "code",
      "metadata": {
        "id": "zIkVl7YUAqi_"
      },
      "source": [
        "import numpy as np\r\n",
        "import torch\r\n",
        "import torch.nn as nn\r\n",
        "import torch.nn.functional as F\r\n",
        "import torchvision\r\n",
        "from torch.utils.data import Dataset\r\n",
        "from torch.utils.data.sampler import SubsetRandomSampler\r\n",
        "from torchvision import datasets, transforms, models\r\n",
        "import os\r\n",
        "import pandas as pd\r\n",
        "from sklearn.model_selection import train_test_split\r\n",
        "import shutil\r\n",
        "from torch.utils.data.sampler import SubsetRandomSampler\r\n",
        "from PIL import Image"
      ],
      "execution_count": null,
      "outputs": []
    },
    {
      "cell_type": "code",
      "metadata": {
        "colab": {
          "base_uri": "https://localhost:8080/",
          "height": 36
        },
        "id": "9pvcO32q138P",
        "outputId": "5fa200e5-309b-4c6b-9838-8f0928fa991e"
      },
      "source": [
        "torch.cuda.get_device_name(0)"
      ],
      "execution_count": null,
      "outputs": [
        {
          "output_type": "execute_result",
          "data": {
            "application/vnd.google.colaboratory.intrinsic+json": {
              "type": "string"
            },
            "text/plain": [
              "'Tesla T4'"
            ]
          },
          "metadata": {
            "tags": []
          },
          "execution_count": 2
        }
      ]
    },
    {
      "cell_type": "markdown",
      "metadata": {
        "id": "eThZlwlDnf0Z"
      },
      "source": [
        "Mount Google Drive"
      ]
    },
    {
      "cell_type": "code",
      "metadata": {
        "colab": {
          "base_uri": "https://localhost:8080/"
        },
        "id": "ywIZAoP-VxgG",
        "outputId": "e2449e3d-b832-477e-ee3c-e7350901a578"
      },
      "source": [
        "from google.colab import drive\r\n",
        "drive.mount('/content/gdrive')\r\n",
        "path = '../content/gdrive/My Drive/Data/saved_model/'"
      ],
      "execution_count": null,
      "outputs": [
        {
          "output_type": "stream",
          "text": [
            "Mounted at /content/gdrive\n"
          ],
          "name": "stdout"
        }
      ]
    },
    {
      "cell_type": "code",
      "metadata": {
        "colab": {
          "base_uri": "https://localhost:8080/"
        },
        "id": "wn7kKNk5JFYc",
        "outputId": "122ac003-b345-4fb3-a4c5-8ce6cae6c081"
      },
      "source": [
        "# Installing Kaggle dependency\r\n",
        "!pip install kaggle"
      ],
      "execution_count": null,
      "outputs": [
        {
          "output_type": "stream",
          "text": [
            "Requirement already satisfied: kaggle in /usr/local/lib/python3.7/dist-packages (1.5.10)\n",
            "Requirement already satisfied: certifi in /usr/local/lib/python3.7/dist-packages (from kaggle) (2020.12.5)\n",
            "Requirement already satisfied: six>=1.10 in /usr/local/lib/python3.7/dist-packages (from kaggle) (1.15.0)\n",
            "Requirement already satisfied: python-slugify in /usr/local/lib/python3.7/dist-packages (from kaggle) (4.0.1)\n",
            "Requirement already satisfied: requests in /usr/local/lib/python3.7/dist-packages (from kaggle) (2.23.0)\n",
            "Requirement already satisfied: urllib3 in /usr/local/lib/python3.7/dist-packages (from kaggle) (1.24.3)\n",
            "Requirement already satisfied: tqdm in /usr/local/lib/python3.7/dist-packages (from kaggle) (4.41.1)\n",
            "Requirement already satisfied: python-dateutil in /usr/local/lib/python3.7/dist-packages (from kaggle) (2.8.1)\n",
            "Requirement already satisfied: text-unidecode>=1.3 in /usr/local/lib/python3.7/dist-packages (from python-slugify->kaggle) (1.3)\n",
            "Requirement already satisfied: chardet<4,>=3.0.2 in /usr/local/lib/python3.7/dist-packages (from requests->kaggle) (3.0.4)\n",
            "Requirement already satisfied: idna<3,>=2.5 in /usr/local/lib/python3.7/dist-packages (from requests->kaggle) (2.10)\n"
          ],
          "name": "stdout"
        }
      ]
    },
    {
      "cell_type": "markdown",
      "metadata": {
        "id": "WdbDcA7HoWQL"
      },
      "source": [
        "Upload Kaggle API"
      ]
    },
    {
      "cell_type": "code",
      "metadata": {
        "colab": {
          "resources": {
            "http://localhost:8080/nbextensions/google.colab/files.js": {
              "data": "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",
              "ok": true,
              "headers": [
                [
                  "content-type",
                  "application/javascript"
                ]
              ],
              "status": 200,
              "status_text": "OK"
            }
          },
          "base_uri": "https://localhost:8080/",
          "height": 92
        },
        "id": "QOI1MudtJSIS",
        "outputId": "eeeb9164-9384-4b52-f77f-6f27285cd562"
      },
      "source": [
        "# Attaching kaggle Database\r\n",
        "from google.colab import files\r\n",
        "files.upload()"
      ],
      "execution_count": null,
      "outputs": [
        {
          "output_type": "display_data",
          "data": {
            "text/html": [
              "\n",
              "     <input type=\"file\" id=\"files-0c14fb96-ffa6-4054-bb6a-6ba93d17a9c4\" name=\"files[]\" multiple disabled\n",
              "        style=\"border:none\" />\n",
              "     <output id=\"result-0c14fb96-ffa6-4054-bb6a-6ba93d17a9c4\">\n",
              "      Upload widget is only available when the cell has been executed in the\n",
              "      current browser session. Please rerun this cell to enable.\n",
              "      </output>\n",
              "      <script src=\"/nbextensions/google.colab/files.js\"></script> "
            ],
            "text/plain": [
              "<IPython.core.display.HTML object>"
            ]
          },
          "metadata": {
            "tags": []
          }
        },
        {
          "output_type": "stream",
          "text": [
            "Saving kaggle.json to kaggle.json\n"
          ],
          "name": "stdout"
        },
        {
          "output_type": "execute_result",
          "data": {
            "text/plain": [
              "{'kaggle.json': b'{\"username\":\"abdulkhan93\",\"key\":\"562b2611685fe1b70ec67f759d7c6622\"}'}"
            ]
          },
          "metadata": {
            "tags": []
          },
          "execution_count": 3
        }
      ]
    },
    {
      "cell_type": "code",
      "metadata": {
        "id": "O4eZ34eYLO0v"
      },
      "source": [
        "!mkdir -p ~/.kaggle\n",
        "!cp kaggle.json ~/.kaggle\n",
        " \n",
        "# Change the permission\n",
        "!chmod 600 ~/.kaggle/kaggle.json"
      ],
      "execution_count": null,
      "outputs": []
    },
    {
      "cell_type": "code",
      "metadata": {
        "colab": {
          "base_uri": "https://localhost:8080/"
        },
        "id": "UnXtMt1ONfgS",
        "outputId": "8636004d-1938-45e5-ff5a-024edac23ba9"
      },
      "source": [
        "# Downloading Dataset\r\n",
        "!kaggle datasets download -d BengaliAI/numta"
      ],
      "execution_count": null,
      "outputs": [
        {
          "output_type": "stream",
          "text": [
            "Downloading numta.zip to /content\n",
            "100% 1.91G/1.91G [00:19<00:00, 37.7MB/s]\n",
            "100% 1.91G/1.91G [00:19<00:00, 105MB/s] \n"
          ],
          "name": "stdout"
        }
      ]
    },
    {
      "cell_type": "markdown",
      "metadata": {
        "id": "QATRsEwtoKLg"
      },
      "source": [
        "Unzip Dataset"
      ]
    },
    {
      "cell_type": "code",
      "metadata": {
        "colab": {
          "base_uri": "https://localhost:8080/"
        },
        "id": "1PrAQ-4XOSx5",
        "outputId": "42c3ea7f-36ec-4eaf-b013-7d9b9eacc7d3"
      },
      "source": [
        "from zipfile import ZipFile\n",
        "filename = \"numta.zip\"\n",
        " \n",
        "with ZipFile(filename,'r') as zip:\n",
        "  zip.extractall()\n",
        "  print(\"Done\")"
      ],
      "execution_count": null,
      "outputs": [
        {
          "output_type": "stream",
          "text": [
            "Done\n"
          ],
          "name": "stdout"
        }
      ]
    },
    {
      "cell_type": "markdown",
      "metadata": {
        "id": "fXVIydDCxDPS"
      },
      "source": [
        "- **Input dimension:**\n",
        "  - Size of image: $28 \\times 28 = 784$\n",
        "\n",
        "- **Output dimension: 10**\n",
        "  - 0, 1, 2, 3, 4, 5, 6, 7, 8, 9"
      ]
    },
    {
      "cell_type": "code",
      "metadata": {
        "id": "SD0cdQOiA42o"
      },
      "source": [
        "# Hyperparameters\n",
        " \n",
        "batch_size = 100\n",
        "num_iters = 50000\n",
        "input_dim = 28*28 # num_features = 784\n",
        "num_hidden = 100 # num of hidden nodes\n",
        "output_dim = 10\n",
        " \n",
        "learning_rate = 0.1\n",
        " \n",
        "# Device\n",
        "device = torch.device(\"cuda:0\" if torch.cuda.is_available() else \"cpu\")"
      ],
      "execution_count": null,
      "outputs": []
    },
    {
      "cell_type": "markdown",
      "metadata": {
        "id": "PW13IGvTppJ3"
      },
      "source": [
        "Reading CSV file"
      ]
    },
    {
      "cell_type": "code",
      "metadata": {
        "id": "qKd4AmgQoC57"
      },
      "source": [
        "def readCSV(csv_filename):\r\n",
        "  df = pd.read_csv(csv_filename)\r\n",
        "  print(df.columns)\r\n",
        "  return df"
      ],
      "execution_count": null,
      "outputs": []
    },
    {
      "cell_type": "code",
      "metadata": {
        "colab": {
          "base_uri": "https://localhost:8080/"
        },
        "id": "u-_zQK3boYHz",
        "outputId": "b37f3b3f-bd11-49d9-b7d3-7a0d8002ecc9"
      },
      "source": [
        "a_csv = readCSV('training-a.csv')\r\n",
        "c_csv = readCSV('training-c.csv')\r\n",
        "d_csv = readCSV('training-d.csv')"
      ],
      "execution_count": null,
      "outputs": [
        {
          "output_type": "stream",
          "text": [
            "Index(['filename', 'original filename', 'scanid', 'digit',\n",
            "       'database name original', 'contributing team', 'database name'],\n",
            "      dtype='object')\n",
            "Index(['filename', 'original filename', 'scanid', 'digit',\n",
            "       'database name original', 'contributing team', 'database name'],\n",
            "      dtype='object')\n",
            "Index(['original filename', 'scanid', 'digit', 'num', 'database name original',\n",
            "       'database name', 'filename'],\n",
            "      dtype='object')\n"
          ],
          "name": "stdout"
        }
      ]
    },
    {
      "cell_type": "code",
      "metadata": {
        "id": "q-OyUw94p6mf"
      },
      "source": [
        "def dropColumns(csv_file):\r\n",
        "  csv_file = csv_file[['filename', 'digit']]\r\n",
        "  print(csv_file.columns)   #First 5 Rows of the CSV File\r\n",
        "  return csv_file"
      ],
      "execution_count": null,
      "outputs": []
    },
    {
      "cell_type": "code",
      "metadata": {
        "colab": {
          "base_uri": "https://localhost:8080/"
        },
        "id": "XA_RTiSUqKrB",
        "outputId": "7fafa61d-5648-433c-a8a8-997d9752f998"
      },
      "source": [
        "a_csv = dropColumns(a_csv)\r\n",
        "c_csv = dropColumns(c_csv)\r\n",
        "d_csv = dropColumns(d_csv)"
      ],
      "execution_count": null,
      "outputs": [
        {
          "output_type": "stream",
          "text": [
            "Index(['filename', 'digit'], dtype='object')\n",
            "Index(['filename', 'digit'], dtype='object')\n",
            "Index(['filename', 'digit'], dtype='object')\n"
          ],
          "name": "stdout"
        }
      ]
    },
    {
      "cell_type": "markdown",
      "metadata": {
        "id": "VssX1rycqGOk"
      },
      "source": [
        "Train Test Splitting (Train : Test  90 : 10)"
      ]
    },
    {
      "cell_type": "code",
      "metadata": {
        "colab": {
          "base_uri": "https://localhost:8080/"
        },
        "id": "Nrp-1mV0qm5i",
        "outputId": "ee2182ae-6d87-42e2-c655-09b5897f8872"
      },
      "source": [
        "# Merged all data\n",
        "total_csv = [a_csv, c_csv, d_csv]\n",
        "merged_csv = pd.concat(total_csv)\n",
        "print(len(merged_csv))\n",
        " \n",
        "# Train Test split\n",
        "train, test = train_test_split(merged_csv, test_size=0.10, shuffle=True)\n",
        "print(len(train))\n",
        "print(len(test))"
      ],
      "execution_count": null,
      "outputs": [
        {
          "output_type": "stream",
          "text": [
            "54908\n",
            "49417\n",
            "5491\n"
          ],
          "name": "stdout"
        }
      ]
    },
    {
      "cell_type": "markdown",
      "metadata": {
        "id": "1ia9GehfqbA9"
      },
      "source": [
        "Copy dataset into one folder"
      ]
    },
    {
      "cell_type": "code",
      "metadata": {
        "id": "vsAOB3BSdP1e"
      },
      "source": [
        "def moveImages(folder_name):\n",
        "  src = folder_name + '/'\n",
        "  dir_folders = os.listdir(src)\n",
        "  for dir_name in dir_folders:\n",
        "    file_name = os.path.join(src, dir_name)\n",
        "    if os.path.isfile(file_name):\n",
        "      shutil.copy(file_name, TRAIN_PATH)"
      ],
      "execution_count": null,
      "outputs": []
    },
    {
      "cell_type": "code",
      "metadata": {
        "colab": {
          "base_uri": "https://localhost:8080/"
        },
        "id": "k8wNj4TEzUyX",
        "outputId": "805c2c7e-4e2f-47c1-96d7-6bd6a22c81d5"
      },
      "source": [
        "TRAIN_PATH = \"../content/train/\"\r\n",
        "os.mkdir('train')\r\n",
        "moveImages('training-a')\r\n",
        "print('A Done')\r\n",
        "moveImages('training-c')\r\n",
        "print('C Done')\r\n",
        "moveImages('training-d')\r\n",
        "print('D Done')"
      ],
      "execution_count": null,
      "outputs": [
        {
          "output_type": "stream",
          "text": [
            "A Done\n",
            "C Done\n",
            "D Done\n"
          ],
          "name": "stdout"
        }
      ]
    },
    {
      "cell_type": "markdown",
      "metadata": {
        "id": "p7czThyKrttg"
      },
      "source": [
        "Implementing Dataset Interface"
      ]
    },
    {
      "cell_type": "code",
      "metadata": {
        "id": "7ox8gHcBqnmy"
      },
      "source": [
        "class Dataset(Dataset):\r\n",
        "    def __init__(self, df, root, transform=None):\r\n",
        "        self.data = df\r\n",
        "        self.root = root\r\n",
        "        self.transform = transform\r\n",
        "        \r\n",
        "    def __len__(self):\r\n",
        "        return len(self.data)\r\n",
        "    \r\n",
        "    def __getitem__(self, index):\r\n",
        "        item = self.data.iloc[index]\r\n",
        "        \r\n",
        "        path = self.root + \"/\" + item[0]\r\n",
        "        image = Image.open(path).convert('L')\r\n",
        "        label = item[1]\r\n",
        "        \r\n",
        "        if self.transform is not None:\r\n",
        "            image = self.transform(image)\r\n",
        "            \r\n",
        "        return image, label"
      ],
      "execution_count": null,
      "outputs": []
    },
    {
      "cell_type": "markdown",
      "metadata": {
        "id": "C4R6x4MvEsOT"
      },
      "source": [
        "### Loading Custom Dataset"
      ]
    },
    {
      "cell_type": "markdown",
      "metadata": {
        "id": "ucO2g9b9vfxu"
      },
      "source": [
        "- **totaldata:** 54,908\n",
        "- **minibatch:** \n",
        "  - Number of examples in **1** iteration\n",
        "\n",
        "- **iterations:**\n",
        "  - *1 iteration: one mini-batch forward & backward pass. That means a parameter (wights and biases) update.*\n",
        "\n",
        "- **epochs**\n",
        "  - 1 epoch: running through the whole dataset once\n",
        "  - $epochs = iterations \\div \\frac{totaldata}{minibatch}$ \n"
      ]
    },
    {
      "cell_type": "code",
      "metadata": {
        "colab": {
          "base_uri": "https://localhost:8080/"
        },
        "id": "ZMdQ_ySDePPI",
        "outputId": "2dc90f99-bb3b-4581-901e-1432c3aa13ea"
      },
      "source": [
        "'''\r\n",
        "LOADING DATASET\r\n",
        "'''\r\n",
        "train_transform = transforms.Compose([\r\n",
        "    transforms.Resize(28),\r\n",
        "    transforms.ToTensor(),\r\n",
        "])\r\n",
        "\r\n",
        "test_transform = transforms.Compose([\r\n",
        "        transforms.Resize(28),\r\n",
        "        transforms.ToTensor(),\r\n",
        "])\r\n",
        "\r\n",
        "train_dataset  = Dataset(train, TRAIN_PATH, train_transform)\r\n",
        "test_dataset = Dataset(test, TRAIN_PATH, test_transform)\r\n",
        "\r\n",
        "print(\"Trainig Samples: \",len(train_dataset))\r\n",
        "\r\n",
        "'''\r\n",
        "MAKING DATASET ITERABLE\r\n",
        "'''\r\n",
        "num_epochs = num_iters / (len(train_dataset) / batch_size)\r\n",
        "num_epochs = int(num_epochs)\r\n",
        "\r\n",
        "train_loader = torch.utils.data.DataLoader(dataset=train_dataset, \r\n",
        "                                           batch_size=batch_size, \r\n",
        "                                           shuffle=True)   # It's better to shuffle the whole training dataset! \r\n",
        "\r\n",
        "test_loader = torch.utils.data.DataLoader(dataset=test_dataset, \r\n",
        "                                          batch_size=batch_size, \r\n",
        "                                          shuffle=False)  "
      ],
      "execution_count": null,
      "outputs": [
        {
          "output_type": "stream",
          "text": [
            "Trainig Samples:  49417\n"
          ],
          "name": "stdout"
        }
      ]
    },
    {
      "cell_type": "code",
      "metadata": {
        "colab": {
          "base_uri": "https://localhost:8080/"
        },
        "id": "iHQajDS90kyR",
        "outputId": "60ac55c4-fb3d-428c-bf7f-d8311ff54e8d"
      },
      "source": [
        "print(train_dataset[1])\r\n",
        "print(train_dataset[0][0].size())\r\n",
        "print(train_dataset[0][0].numpy().shape)\r\n",
        "print(train_dataset[0][1])"
      ],
      "execution_count": null,
      "outputs": [
        {
          "output_type": "stream",
          "text": [
            "(tensor([[[0.9529, 0.9529, 0.9569, 0.9608, 0.9569, 0.9608, 0.9608, 0.9569,\n",
            "          0.9569, 0.9608, 0.9608, 0.9569, 0.9529, 0.9490, 0.9412, 0.9451,\n",
            "          0.9490, 0.9490, 0.9490, 0.9490, 0.9490, 0.9529, 0.9529, 0.9529,\n",
            "          0.9490, 0.9490, 0.9529, 0.9529],\n",
            "         [0.9529, 0.9569, 0.9529, 0.9529, 0.9529, 0.9569, 0.9569, 0.9569,\n",
            "          0.9608, 0.9608, 0.9608, 0.9569, 0.9569, 0.9529, 0.9490, 0.9490,\n",
            "          0.9490, 0.9490, 0.9490, 0.9490, 0.9529, 0.9529, 0.9529, 0.9529,\n",
            "          0.9529, 0.9529, 0.9569, 0.9529],\n",
            "         [0.9529, 0.9569, 0.9569, 0.9529, 0.9529, 0.9569, 0.9569, 0.9569,\n",
            "          0.9608, 0.9608, 0.9608, 0.9608, 0.9608, 0.9569, 0.9529, 0.9529,\n",
            "          0.9490, 0.9529, 0.9529, 0.9569, 0.9569, 0.9529, 0.9529, 0.9529,\n",
            "          0.9529, 0.9529, 0.9529, 0.9529],\n",
            "         [0.9569, 0.9608, 0.9569, 0.9569, 0.9569, 0.9569, 0.9569, 0.9569,\n",
            "          0.9608, 0.9569, 0.9569, 0.9569, 0.9569, 0.9569, 0.9569, 0.9569,\n",
            "          0.9490, 0.9529, 0.9569, 0.9569, 0.9569, 0.9569, 0.9529, 0.9569,\n",
            "          0.9529, 0.9529, 0.9529, 0.9529],\n",
            "         [0.9569, 0.9529, 0.9569, 0.9608, 0.9608, 0.9569, 0.9608, 0.9569,\n",
            "          0.9569, 0.9569, 0.9608, 0.9569, 0.9608, 0.9569, 0.9569, 0.9569,\n",
            "          0.9529, 0.9529, 0.9529, 0.9529, 0.9529, 0.9569, 0.9569, 0.9569,\n",
            "          0.9569, 0.9529, 0.9529, 0.9529],\n",
            "         [0.9569, 0.9529, 0.9529, 0.9569, 0.9569, 0.9569, 0.9569, 0.9569,\n",
            "          0.9608, 0.9608, 0.9608, 0.9608, 0.9647, 0.9608, 0.9569, 0.9569,\n",
            "          0.9569, 0.9529, 0.9529, 0.9529, 0.9529, 0.9569, 0.9529, 0.9569,\n",
            "          0.9608, 0.9569, 0.9569, 0.9569],\n",
            "         [0.9569, 0.9569, 0.9569, 0.9529, 0.9569, 0.9529, 0.9569, 0.9569,\n",
            "          0.9608, 0.9608, 0.9608, 0.9608, 0.9608, 0.9608, 0.9608, 0.9608,\n",
            "          0.9529, 0.9569, 0.9569, 0.9569, 0.9490, 0.9608, 0.9569, 0.9569,\n",
            "          0.9529, 0.9569, 0.9569, 0.9608],\n",
            "         [0.9569, 0.9569, 0.9569, 0.9608, 0.9608, 0.9608, 0.9608, 0.9608,\n",
            "          0.9608, 0.9608, 0.9569, 0.9608, 0.9608, 0.9608, 0.9608, 0.9608,\n",
            "          0.9608, 0.9569, 0.9569, 0.9569, 0.9569, 0.9569, 0.9529, 0.9569,\n",
            "          0.9569, 0.9529, 0.9569, 0.9569],\n",
            "         [0.9569, 0.9569, 0.9569, 0.9608, 0.9569, 0.9569, 0.9608, 0.9608,\n",
            "          0.9608, 0.9608, 0.9647, 0.9647, 0.9608, 0.9608, 0.9569, 0.9608,\n",
            "          0.9608, 0.9569, 0.9529, 0.9529, 0.9569, 0.9569, 0.9529, 0.9569,\n",
            "          0.9569, 0.9490, 0.9529, 0.9569],\n",
            "         [0.9569, 0.9569, 0.9569, 0.9608, 0.9569, 0.9569, 0.9529, 0.9569,\n",
            "          0.9529, 0.9569, 0.9412, 0.9294, 0.9451, 0.9569, 0.9569, 0.9569,\n",
            "          0.9569, 0.9569, 0.9529, 0.9569, 0.9569, 0.9608, 0.9569, 0.9569,\n",
            "          0.9608, 0.9569, 0.9569, 0.9529],\n",
            "         [0.9569, 0.9529, 0.9569, 0.9608, 0.9569, 0.9529, 0.9569, 0.9529,\n",
            "          0.9490, 0.8588, 0.5137, 0.4824, 0.5686, 0.6784, 0.8157, 0.9176,\n",
            "          0.9529, 0.9529, 0.9569, 0.9569, 0.9569, 0.9569, 0.9569, 0.9569,\n",
            "          0.9569, 0.9569, 0.9569, 0.9569],\n",
            "         [0.9529, 0.9529, 0.9529, 0.9608, 0.9569, 0.9529, 0.9490, 0.9490,\n",
            "          0.9451, 0.8235, 0.5961, 0.7922, 0.8118, 0.7333, 0.6353, 0.5765,\n",
            "          0.8157, 0.9490, 0.9529, 0.9529, 0.9569, 0.9569, 0.9569, 0.9569,\n",
            "          0.9529, 0.9569, 0.9608, 0.9608],\n",
            "         [0.9412, 0.9490, 0.9490, 0.9490, 0.9569, 0.9569, 0.9529, 0.9451,\n",
            "          0.9451, 0.9333, 0.8980, 0.9412, 0.9373, 0.9373, 0.9176, 0.7961,\n",
            "          0.5255, 0.8118, 0.9529, 0.9529, 0.9529, 0.9529, 0.9529, 0.9529,\n",
            "          0.9490, 0.9569, 0.9569, 0.9569],\n",
            "         [0.9373, 0.9412, 0.9412, 0.9412, 0.9412, 0.9529, 0.9569, 0.9529,\n",
            "          0.9451, 0.9412, 0.9373, 0.9333, 0.9333, 0.9294, 0.9255, 0.9294,\n",
            "          0.7373, 0.6196, 0.9529, 0.9569, 0.9569, 0.9529, 0.9529, 0.9529,\n",
            "          0.9529, 0.9569, 0.9569, 0.9608],\n",
            "         [0.9412, 0.9373, 0.9412, 0.9451, 0.9412, 0.9412, 0.9490, 0.9451,\n",
            "          0.9412, 0.9412, 0.9373, 0.9333, 0.9333, 0.9333, 0.9294, 0.9216,\n",
            "          0.7843, 0.6118, 0.9490, 0.9529, 0.9529, 0.9529, 0.9529, 0.9529,\n",
            "          0.9569, 0.9608, 0.9529, 0.9569],\n",
            "         [0.9451, 0.9412, 0.9412, 0.9412, 0.9412, 0.9412, 0.9451, 0.9451,\n",
            "          0.9451, 0.9333, 0.9373, 0.9373, 0.9373, 0.8314, 0.6863, 0.6902,\n",
            "          0.5412, 0.7804, 0.9529, 0.9529, 0.9529, 0.9569, 0.9569, 0.9529,\n",
            "          0.9569, 0.9569, 0.9569, 0.9490],\n",
            "         [0.9412, 0.9451, 0.9412, 0.9373, 0.9373, 0.9373, 0.9412, 0.9412,\n",
            "          0.9373, 0.9412, 0.9451, 0.9451, 0.8941, 0.5137, 0.6078, 0.5922,\n",
            "          0.7020, 0.9373, 0.9529, 0.9490, 0.9529, 0.9569, 0.9529, 0.9569,\n",
            "          0.9529, 0.9529, 0.9529, 0.9490],\n",
            "         [0.9451, 0.9451, 0.9451, 0.9412, 0.9412, 0.9412, 0.9412, 0.9412,\n",
            "          0.9412, 0.9412, 0.9451, 0.9412, 0.9333, 0.7922, 0.6980, 0.8235,\n",
            "          0.9373, 0.9529, 0.9569, 0.9569, 0.9569, 0.9569, 0.9529, 0.9569,\n",
            "          0.9529, 0.9529, 0.9569, 0.9529],\n",
            "         [0.9529, 0.9490, 0.9529, 0.9490, 0.9451, 0.9451, 0.9451, 0.9451,\n",
            "          0.9490, 0.9490, 0.9490, 0.9529, 0.9490, 0.9451, 0.9490, 0.9490,\n",
            "          0.9490, 0.9490, 0.9529, 0.9529, 0.9529, 0.9529, 0.9569, 0.9608,\n",
            "          0.9569, 0.9569, 0.9569, 0.9569],\n",
            "         [0.9490, 0.9529, 0.9529, 0.9490, 0.9451, 0.9373, 0.9373, 0.9451,\n",
            "          0.9490, 0.9490, 0.9490, 0.9529, 0.9529, 0.9529, 0.9529, 0.9490,\n",
            "          0.9490, 0.9529, 0.9529, 0.9569, 0.9569, 0.9569, 0.9569, 0.9529,\n",
            "          0.9569, 0.9569, 0.9608, 0.9569],\n",
            "         [0.9373, 0.9412, 0.9412, 0.9412, 0.9373, 0.9412, 0.9490, 0.9529,\n",
            "          0.9529, 0.9529, 0.9529, 0.9529, 0.9529, 0.9529, 0.9529, 0.9529,\n",
            "          0.9529, 0.9569, 0.9569, 0.9569, 0.9569, 0.9569, 0.9569, 0.9529,\n",
            "          0.9569, 0.9569, 0.9529, 0.9529],\n",
            "         [0.9412, 0.9373, 0.9412, 0.9451, 0.9451, 0.9490, 0.9490, 0.9529,\n",
            "          0.9529, 0.9529, 0.9529, 0.9529, 0.9569, 0.9569, 0.9529, 0.9529,\n",
            "          0.9529, 0.9569, 0.9569, 0.9529, 0.9569, 0.9569, 0.9529, 0.9490,\n",
            "          0.9529, 0.9529, 0.9529, 0.9529],\n",
            "         [0.9451, 0.9412, 0.9451, 0.9490, 0.9529, 0.9490, 0.9529, 0.9529,\n",
            "          0.9529, 0.9529, 0.9529, 0.9529, 0.9529, 0.9569, 0.9569, 0.9529,\n",
            "          0.9529, 0.9529, 0.9529, 0.9529, 0.9569, 0.9569, 0.9529, 0.9451,\n",
            "          0.9451, 0.9490, 0.9490, 0.9490],\n",
            "         [0.9451, 0.9490, 0.9490, 0.9529, 0.9529, 0.9490, 0.9529, 0.9529,\n",
            "          0.9529, 0.9529, 0.9529, 0.9529, 0.9529, 0.9529, 0.9529, 0.9490,\n",
            "          0.9490, 0.9529, 0.9529, 0.9529, 0.9569, 0.9569, 0.9529, 0.9529,\n",
            "          0.9490, 0.9490, 0.9490, 0.9490],\n",
            "         [0.9451, 0.9490, 0.9490, 0.9529, 0.9490, 0.9529, 0.9529, 0.9490,\n",
            "          0.9529, 0.9490, 0.9529, 0.9569, 0.9569, 0.9529, 0.9569, 0.9529,\n",
            "          0.9569, 0.9569, 0.9529, 0.9529, 0.9529, 0.9529, 0.9529, 0.9529,\n",
            "          0.9490, 0.9490, 0.9490, 0.9490],\n",
            "         [0.9490, 0.9490, 0.9529, 0.9529, 0.9529, 0.9529, 0.9490, 0.9529,\n",
            "          0.9569, 0.9569, 0.9529, 0.9529, 0.9529, 0.9529, 0.9490, 0.9529,\n",
            "          0.9529, 0.9490, 0.9569, 0.9490, 0.9490, 0.9529, 0.9529, 0.9529,\n",
            "          0.9529, 0.9490, 0.9490, 0.9490],\n",
            "         [0.9451, 0.9451, 0.9490, 0.9569, 0.9569, 0.9529, 0.9529, 0.9608,\n",
            "          0.9569, 0.9569, 0.9529, 0.9490, 0.9529, 0.9490, 0.9490, 0.9490,\n",
            "          0.9490, 0.9490, 0.9569, 0.9529, 0.9529, 0.9529, 0.9490, 0.9490,\n",
            "          0.9529, 0.9529, 0.9529, 0.9529],\n",
            "         [0.9490, 0.9490, 0.9490, 0.9569, 0.9569, 0.9569, 0.9569, 0.9529,\n",
            "          0.9569, 0.9569, 0.9529, 0.9490, 0.9490, 0.9529, 0.9490, 0.9529,\n",
            "          0.9529, 0.9529, 0.9490, 0.9569, 0.9569, 0.9529, 0.9529, 0.9529,\n",
            "          0.9490, 0.9490, 0.9412, 0.9490]]]), 1)\n",
            "torch.Size([1, 28, 28])\n",
            "(1, 28, 28)\n",
            "7\n"
          ],
          "name": "stdout"
        }
      ]
    },
    {
      "cell_type": "code",
      "metadata": {
        "colab": {
          "base_uri": "https://localhost:8080/",
          "height": 301
        },
        "id": "Ynn-MU4x8LRl",
        "outputId": "febd83d8-b87a-4a6c-fc89-f1a137b82512"
      },
      "source": [
        "## Displaying a Image from Dataset\r\n",
        "import matplotlib.pyplot as plt \r\n",
        "\r\n",
        "print(train_dataset[40][1])\r\n",
        "show_img = train_dataset[40][0].numpy().reshape(28, 28)\r\n",
        "plt.imshow(show_img, cmap='gray')"
      ],
      "execution_count": null,
      "outputs": [
        {
          "output_type": "stream",
          "text": [
            "9\n"
          ],
          "name": "stdout"
        },
        {
          "output_type": "execute_result",
          "data": {
            "text/plain": [
              "<matplotlib.image.AxesImage at 0x7ff2356cfbd0>"
            ]
          },
          "metadata": {
            "tags": []
          },
          "execution_count": 19
        },
        {
          "output_type": "display_data",
          "data": {
            "image/png": "[encoded data removed]",
            "text/plain": [
              "<Figure size 432x288 with 1 Axes>"
            ]
          },
          "metadata": {
            "tags": [],
            "needs_background": "light"
          }
        }
      ]
    },
    {
      "cell_type": "markdown",
      "metadata": {
        "id": "Kuf9ikskuRI8"
      },
      "source": [
        "### Step #1 : Designing Deep Neural Model"
      ]
    },
    {
      "cell_type": "code",
      "metadata": {
        "id": "0nDEXr-4uRJA"
      },
      "source": [
        "class DeepNeuralNetworkModel(nn.Module):\n",
        "    def __init__(self, input_size, num_classes, num_hidden):\n",
        "        super().__init__()\n",
        "        ### 1st hidden layer\n",
        "        self.linear_1 = nn.Linear(input_size, 512)\n",
        "        ### Non-linearity in 1st hidden layer\n",
        "        self.relu_1 = nn.ReLU()\n",
        "\n",
        "        ### 2nd hidden layer\n",
        "        self.linear_2 = nn.Linear(512, 256)\n",
        "        ### Non-linearity in 2nd hidden layer\n",
        "        self.relu_2 = nn.ReLU()\n",
        "\n",
        "        ### 3rd hidden layer\n",
        "        self.linear_3 = nn.Linear(256, 128)\n",
        "        ### Non-linearity in 2nd hidden layer\n",
        "        self.softmax_3 = nn.Softmax()\n",
        "\n",
        "        self.linear_out = nn.Linear(128, num_classes)\n",
        "\n",
        "    def forward(self, x):\n",
        "        ### 1st hidden layer\n",
        "        out  = self.linear_1(x)\n",
        "        ### Non-linearity in 1st hidden layer\n",
        "        out = self.relu_1(out)\n",
        "\n",
        "        ### 2nd hidden layer\n",
        "        out = self.linear_2(out)\n",
        "        ### Non-linearity in 2nd hidden layer\n",
        "        out = self.relu_2(out)\n",
        "\n",
        "        ### 3rd hidden layer\n",
        "        out = self.linear_3(out)\n",
        "        ### Non-linearity in 3rd hidden layer\n",
        "        out = self.softmax_3(out)\n",
        "\n",
        "        probas = self.linear_out(out)\n",
        "\n",
        "        return probas"
      ],
      "execution_count": null,
      "outputs": []
    },
    {
      "cell_type": "code",
      "metadata": {
        "colab": {
          "base_uri": "https://localhost:8080/"
        },
        "id": "-aCsKIn0uRJD",
        "outputId": "2de2804e-7723-4436-8597-0ecba3252b45"
      },
      "source": [
        "'''\n",
        "INSTANTIATE MODEL CLASS\n",
        "'''\n",
        "model = DeepNeuralNetworkModel(input_size = input_dim,\n",
        "                           num_classes = output_dim,\n",
        "                           num_hidden = num_hidden)\n",
        "# To enable GPU\n",
        "model.to(device)\n"
      ],
      "execution_count": null,
      "outputs": [
        {
          "output_type": "execute_result",
          "data": {
            "text/plain": [
              "DeepNeuralNetworkModel(\n",
              "  (linear_1): Linear(in_features=784, out_features=512, bias=True)\n",
              "  (relu_1): ReLU()\n",
              "  (linear_2): Linear(in_features=512, out_features=256, bias=True)\n",
              "  (relu_2): ReLU()\n",
              "  (linear_3): Linear(in_features=256, out_features=128, bias=True)\n",
              "  (Lrelu_3): LeakyReLU(negative_slope=0.01)\n",
              "  (linear_out): Linear(in_features=128, out_features=10, bias=True)\n",
              ")"
            ]
          },
          "metadata": {
            "tags": []
          },
          "execution_count": 22
        }
      ]
    },
    {
      "cell_type": "markdown",
      "metadata": {
        "id": "pdrDJPOKzdSp"
      },
      "source": [
        "###Step #2 : Constructing loss and optimizer (select from PyTorch API)\n",
        "\n",
        "We use Cross Entropy Loss to calculate our loss before we backpropagate and update our parameters.\n",
        "\n",
        "`criterion = nn.CrossEntropyLoss() ` \n",
        "\n",
        "It does 2 things at the same time.\n",
        "\n",
        "1. Computes softmax **([Logistic or Sigmoid]/softmax function)**\n",
        "2. Computes Cross Entropy Loss"
      ]
    },
    {
      "cell_type": "code",
      "metadata": {
        "id": "GM2q_XGHzcta"
      },
      "source": [
        "# INSTANTIATE OPTIMIZER CLASS\n",
        "criterion = nn.CrossEntropyLoss()\n",
        "optimizer = torch.optim.SGD(model.parameters(), lr=learning_rate)"
      ],
      "execution_count": null,
      "outputs": []
    },
    {
      "cell_type": "code",
      "metadata": {
        "id": "vbM1kQBwma46"
      },
      "source": [
        "# Create Directory\n",
        "saveModel = path + 'i' + str(num_iters) +'_b' + str(batch_size) +'_L' + str(learning_rate)\n",
        "check_dir = os.listdir(path)\n",
        "if ('i' + str(num_iters) +'_b' + str(batch_size) +'_L' + str(learning_rate) not in check_dir):\n",
        "  os.mkdir(saveModel)\n",
        "\n",
        "# Save Model\n",
        "def saveModel(batch,iteration,learningRate):\n",
        "  save_model = True\n",
        "  if save_model is True:\n",
        "      # Saves only parameters\n",
        "      # wights & biases\n",
        "      torch.save(model.state_dict(), path + 'i' + str(num_iters) + '_b' + str(batch_size) +'_L' + str(learning_rate) + '/logistic_i' + str(iteration) +'_b' + str(batch_size) +'_L' + str(learning_rate) +'.pkl') "
      ],
      "execution_count": null,
      "outputs": []
    },
    {
      "cell_type": "markdown",
      "metadata": {
        "id": "PvD4MeUNuA2m"
      },
      "source": [
        "##Step #3: Model Training"
      ]
    },
    {
      "cell_type": "code",
      "metadata": {
        "id": "-JIkDlaCib38"
      },
      "source": [
        "iteration_loss = []\r\n",
        "iter = 1"
      ],
      "execution_count": null,
      "outputs": []
    },
    {
      "cell_type": "code",
      "metadata": {
        "colab": {
          "base_uri": "https://localhost:8080/",
          "height": 1000
        },
        "id": "Q3Jb4vhRZI9p",
        "outputId": "fe1cd226-3138-430b-bc27-c65e43b3e80b"
      },
      "source": [
        "'''\n",
        "TRAIN THE MODEL\n",
        "'''\n",
        "loss_path = path + 'i'+ str(num_iters) + '_b' + str(batch_size) +'_L' + str(learning_rate) +'/accuracy_loss.txt'\n",
        "f = open(loss_path, \"a\")\n",
        "f.write(\"Iteration\\tLoss\\tAccuracy\\n\")\n",
        "f.close()\n",
        " \n",
        "for epoch in range(num_epochs):\n",
        "    for i, (images, labels) in enumerate(train_loader):\n",
        "        images = images.view(-1, 28*28).to(device)\n",
        "        labels = labels.to(device)\n",
        " \n",
        "        # Clear gradients w.r.t. parameters\n",
        "        optimizer.zero_grad()\n",
        " \n",
        "        # Forward pass to get output/logits\n",
        "        outputs = model(images) \n",
        " \n",
        "        # Calculate Loss: softmax --> cross entropy loss\n",
        "        loss = criterion(outputs, labels)\n",
        " \n",
        "        # Getting gradients w.r.t. parameters\n",
        "        loss.backward()\n",
        "        # Updating parameters\n",
        "        optimizer.step()\n",
        "        \n",
        "        print(\"\\rIteration:{}\".format(iter), end=\"\")\n",
        "        iter += 1\n",
        "        if iter % 1000 == 0:\n",
        "            saveModel(batch_size, iter,learning_rate)\n",
        "        if iter % 500 == 0:\n",
        "            # Calculate Accuracy         \n",
        "            correct = 0\n",
        "            total = 0\n",
        "            # Iterate through test dataset\n",
        "            for images, labels in test_loader: \n",
        "                # Forward pass only to get logits/output\n",
        "                outputs = model(images)\n",
        " \n",
        "                # Get predictions from the maximum value\n",
        "                _, predicted = torch.max(outputs, 1)\n",
        " \n",
        "                # Total number of labels\n",
        "                total += labels.size(0)\n",
        " \n",
        " \n",
        "                # Total correct predictions\n",
        "                if torch.cuda.is_available():\n",
        "                    correct += (predicted.cpu() == labels.cpu()).sum() \n",
        "                else:\n",
        "                    correct += (predicted == labels).sum()\n",
        " \n",
        "            accuracy = 100 * correct.item() / total\n",
        " \n",
        "            # Print Loss\n",
        "            iteration_loss.append(loss.item())\n",
        "            print('\\nIteration: {}. Loss: {}. Accuracy: {}'.format(iter, loss.item(), accuracy))\n",
        "            f = open(loss_path, \"a\")\n",
        "            f.write(str(iter) + \"\\t\" + str(loss.item()) + \"\\t\"+ str(accuracy) +\"\\n\")\n",
        "            f.close()"
      ],
      "execution_count": null,
      "outputs": [
        {
          "output_type": "stream",
          "text": [
            "Iteration:499\n",
            "Iteration: 500. Loss: 2.304914712905884. Accuracy: 10.344199599344382\n",
            "Iteration:999\n",
            "Iteration: 1000. Loss: 2.3006057739257812. Accuracy: 10.489892551447824\n",
            "Iteration:1499\n",
            "Iteration: 1500. Loss: 2.3009819984436035. Accuracy: 10.271353123292661\n",
            "Iteration:1999\n",
            "Iteration: 2000. Loss: 2.296576499938965. Accuracy: 9.051174649426335\n",
            "Iteration:2499\n",
            "Iteration: 2500. Loss: 2.297712564468384. Accuracy: 10.12566017118922\n",
            "Iteration:2999\n",
            "Iteration: 3000. Loss: 2.266228675842285. Accuracy: 10.344199599344382\n",
            "Iteration:3499\n",
            "Iteration: 3500. Loss: 2.2708346843719482. Accuracy: 11.218357311965034\n",
            "Iteration:3999\n",
            "Iteration: 4000. Loss: 2.2657546997070312. Accuracy: 14.387179020214898\n",
            "Iteration:4499\n",
            "Iteration: 4500. Loss: 2.225022077560425. Accuracy: 10.18029502822801\n",
            "Iteration:4999\n",
            "Iteration: 5000. Loss: 2.3514132499694824. Accuracy: 13.695137497723548\n",
            "Iteration:5499\n",
            "Iteration: 5500. Loss: 2.359041690826416. Accuracy: 12.930249499180476\n",
            "Iteration:5999\n",
            "Iteration: 6000. Loss: 2.1566174030303955. Accuracy: 16.754689491895828\n",
            "Iteration:6499\n",
            "Iteration: 6500. Loss: 2.215510129928589. Accuracy: 15.22491349480969\n",
            "Iteration:6999\n",
            "Iteration: 7000. Loss: 2.1769192218780518. Accuracy: 24.16681843015844\n",
            "Iteration:7499\n",
            "Iteration: 7500. Loss: 2.2102057933807373. Accuracy: 19.66854853396467\n",
            "Iteration:7999\n",
            "Iteration: 8000. Loss: 2.1407768726348877. Accuracy: 23.110544527408486\n",
            "Iteration:8499\n",
            "Iteration: 8500. Loss: 2.1222596168518066. Accuracy: 17.810963394645785\n",
            "Iteration:8999\n",
            "Iteration: 9000. Loss: 2.2636709213256836. Accuracy: 15.461664541977783\n",
            "Iteration:9499\n",
            "Iteration: 9500. Loss: 2.1841368675231934. Accuracy: 13.713349116736477\n",
            "Iteration:9999\n",
            "Iteration: 10000. Loss: 2.3029682636260986. Accuracy: 16.68184301584411\n",
            "Iteration:10499\n",
            "Iteration: 10500. Loss: 2.1902921199798584. Accuracy: 16.390457111637225\n",
            "Iteration:10999\n",
            "Iteration: 11000. Loss: 2.142954111099243. Accuracy: 20.26953196139137\n",
            "Iteration:11499\n",
            "Iteration: 11500. Loss: 2.076725959777832. Accuracy: 25.022764523766163\n",
            "Iteration:11999\n",
            "Iteration: 12000. Loss: 2.269153594970703. Accuracy: 17.137133491167365\n",
            "Iteration:12499\n",
            "Iteration: 12500. Loss: 1.9650582075119019. Accuracy: 19.63212529593881\n",
            "Iteration:12999\n",
            "Iteration: 13000. Loss: 2.0369863510131836. Accuracy: 21.76288472045165\n",
            "Iteration:13499\n",
            "Iteration: 13500. Loss: 2.1955323219299316. Accuracy: 14.678564924421782\n",
            "Iteration:13999\n",
            "Iteration: 14000. Loss: 2.404550075531006. Accuracy: 22.746312147149883\n",
            "Iteration:14499\n",
            "Iteration: 14500. Loss: 2.16947078704834. Accuracy: 18.921872154434528\n",
            "Iteration:14999\n",
            "Iteration: 15000. Loss: 2.3689589500427246. Accuracy: 19.74139501001639\n",
            "Iteration:15499\n",
            "Iteration: 15500. Loss: 2.165308952331543. Accuracy: 26.22473137861956\n",
            "Iteration:15999\n",
            "Iteration: 16000. Loss: 1.933906078338623. Accuracy: 30.395192132580586\n",
            "Iteration:16499\n",
            "Iteration: 16500. Loss: 1.9641594886779785. Accuracy: 24.82243671462393\n",
            "Iteration:16999\n",
            "Iteration: 17000. Loss: 2.1069231033325195. Accuracy: 27.171735567291933\n",
            "Iteration:17499\n",
            "Iteration: 17500. Loss: 2.1269986629486084. Accuracy: 18.830814059369878\n",
            "Iteration:17999\n",
            "Iteration: 18000. Loss: 2.0064213275909424. Accuracy: 32.58058641413221\n",
            "Iteration:18499\n",
            "Iteration: 18500. Loss: 2.1273012161254883. Accuracy: 27.62702604261519\n",
            "Iteration:18999\n",
            "Iteration: 19000. Loss: 2.0900497436523438. Accuracy: 23.165179384447278\n",
            "Iteration:19499\n",
            "Iteration: 19500. Loss: 2.1312997341156006. Accuracy: 29.393553086869424\n",
            "Iteration:19999\n",
            "Iteration: 20000. Loss: 1.8954122066497803. Accuracy: 21.544345292296484\n",
            "Iteration:20499\n",
            "Iteration: 20500. Loss: 2.0159013271331787. Accuracy: 33.272627936623564\n",
            "Iteration:20999\n",
            "Iteration: 21000. Loss: 2.0857231616973877. Accuracy: 20.63376434164997\n",
            "Iteration:21499\n",
            "Iteration: 21500. Loss: 2.007077693939209. Accuracy: 30.103806228373703\n",
            "Iteration:21999\n",
            "Iteration: 22000. Loss: 1.9580706357955933. Accuracy: 28.64687670733928\n",
            "Iteration:22499\n",
            "Iteration: 22500. Loss: 1.948186993598938. Accuracy: 30.7047896558004\n",
            "Iteration:22999\n",
            "Iteration: 23000. Loss: 1.8818715810775757. Accuracy: 28.592241850300493\n",
            "Iteration:23499\n",
            "Iteration: 23500. Loss: 2.064361095428467. Accuracy: 16.84574758696048\n",
            "Iteration:23999\n",
            "Iteration: 24000. Loss: 1.9740413427352905. Accuracy: 36.87852850118376\n",
            "Iteration:24084"
          ],
          "name": "stdout"
        },
        {
          "output_type": "error",
          "ename": "KeyboardInterrupt",
          "evalue": "ignored",
          "traceback": [
            "\u001b[0;31m---------------------------------------------------------------------------\u001b[0m",
            "\u001b[0;31mKeyboardInterrupt\u001b[0m                         Traceback (most recent call last)",
            "\u001b[0;32m<ipython-input-65-d99fa91ef621>\u001b[0m in \u001b[0;36m<module>\u001b[0;34m()\u001b[0m\n\u001b[1;32m      8\u001b[0m \u001b[0;34m\u001b[0m\u001b[0m\n\u001b[1;32m      9\u001b[0m \u001b[0;32mfor\u001b[0m \u001b[0mepoch\u001b[0m \u001b[0;32min\u001b[0m \u001b[0mrange\u001b[0m\u001b[0;34m(\u001b[0m\u001b[0mnum_epochs\u001b[0m\u001b[0;34m)\u001b[0m\u001b[0;34m:\u001b[0m\u001b[0;34m\u001b[0m\u001b[0;34m\u001b[0m\u001b[0m\n\u001b[0;32m---> 10\u001b[0;31m     \u001b[0;32mfor\u001b[0m \u001b[0mi\u001b[0m\u001b[0;34m,\u001b[0m \u001b[0;34m(\u001b[0m\u001b[0mimages\u001b[0m\u001b[0;34m,\u001b[0m \u001b[0mlabels\u001b[0m\u001b[0;34m)\u001b[0m \u001b[0;32min\u001b[0m \u001b[0menumerate\u001b[0m\u001b[0;34m(\u001b[0m\u001b[0mtrain_loader\u001b[0m\u001b[0;34m)\u001b[0m\u001b[0;34m:\u001b[0m\u001b[0;34m\u001b[0m\u001b[0;34m\u001b[0m\u001b[0m\n\u001b[0m\u001b[1;32m     11\u001b[0m         \u001b[0mimages\u001b[0m \u001b[0;34m=\u001b[0m \u001b[0mimages\u001b[0m\u001b[0;34m.\u001b[0m\u001b[0mview\u001b[0m\u001b[0;34m(\u001b[0m\u001b[0;34m-\u001b[0m\u001b[0;36m1\u001b[0m\u001b[0;34m,\u001b[0m \u001b[0;36m28\u001b[0m\u001b[0;34m*\u001b[0m\u001b[0;36m28\u001b[0m\u001b[0;34m)\u001b[0m\u001b[0;34m.\u001b[0m\u001b[0mto\u001b[0m\u001b[0;34m(\u001b[0m\u001b[0mdevice\u001b[0m\u001b[0;34m)\u001b[0m\u001b[0;34m\u001b[0m\u001b[0;34m\u001b[0m\u001b[0m\n\u001b[1;32m     12\u001b[0m         \u001b[0mlabels\u001b[0m \u001b[0;34m=\u001b[0m \u001b[0mlabels\u001b[0m\u001b[0;34m.\u001b[0m\u001b[0mto\u001b[0m\u001b[0;34m(\u001b[0m\u001b[0mdevice\u001b[0m\u001b[0;34m)\u001b[0m\u001b[0;34m\u001b[0m\u001b[0;34m\u001b[0m\u001b[0m\n",
            "\u001b[0;32m/usr/local/lib/python3.7/dist-packages/torch/utils/data/dataloader.py\u001b[0m in \u001b[0;36m__next__\u001b[0;34m(self)\u001b[0m\n\u001b[1;32m    433\u001b[0m         \u001b[0;32mif\u001b[0m \u001b[0mself\u001b[0m\u001b[0;34m.\u001b[0m\u001b[0m_sampler_iter\u001b[0m \u001b[0;32mis\u001b[0m \u001b[0;32mNone\u001b[0m\u001b[0;34m:\u001b[0m\u001b[0;34m\u001b[0m\u001b[0;34m\u001b[0m\u001b[0m\n\u001b[1;32m    434\u001b[0m             \u001b[0mself\u001b[0m\u001b[0;34m.\u001b[0m\u001b[0m_reset\u001b[0m\u001b[0;34m(\u001b[0m\u001b[0;34m)\u001b[0m\u001b[0;34m\u001b[0m\u001b[0;34m\u001b[0m\u001b[0m\n\u001b[0;32m--> 435\u001b[0;31m         \u001b[0mdata\u001b[0m \u001b[0;34m=\u001b[0m \u001b[0mself\u001b[0m\u001b[0;34m.\u001b[0m\u001b[0m_next_data\u001b[0m\u001b[0;34m(\u001b[0m\u001b[0;34m)\u001b[0m\u001b[0;34m\u001b[0m\u001b[0;34m\u001b[0m\u001b[0m\n\u001b[0m\u001b[1;32m    436\u001b[0m         \u001b[0mself\u001b[0m\u001b[0;34m.\u001b[0m\u001b[0m_num_yielded\u001b[0m \u001b[0;34m+=\u001b[0m \u001b[0;36m1\u001b[0m\u001b[0;34m\u001b[0m\u001b[0;34m\u001b[0m\u001b[0m\n\u001b[1;32m    437\u001b[0m         \u001b[0;32mif\u001b[0m \u001b[0mself\u001b[0m\u001b[0;34m.\u001b[0m\u001b[0m_dataset_kind\u001b[0m \u001b[0;34m==\u001b[0m \u001b[0m_DatasetKind\u001b[0m\u001b[0;34m.\u001b[0m\u001b[0mIterable\u001b[0m \u001b[0;32mand\u001b[0m\u001b[0;31m \u001b[0m\u001b[0;31m\\\u001b[0m\u001b[0;34m\u001b[0m\u001b[0;34m\u001b[0m\u001b[0m\n",
            "\u001b[0;32m/usr/local/lib/python3.7/dist-packages/torch/utils/data/dataloader.py\u001b[0m in \u001b[0;36m_next_data\u001b[0;34m(self)\u001b[0m\n\u001b[1;32m    473\u001b[0m     \u001b[0;32mdef\u001b[0m \u001b[0m_next_data\u001b[0m\u001b[0;34m(\u001b[0m\u001b[0mself\u001b[0m\u001b[0;34m)\u001b[0m\u001b[0;34m:\u001b[0m\u001b[0;34m\u001b[0m\u001b[0;34m\u001b[0m\u001b[0m\n\u001b[1;32m    474\u001b[0m         \u001b[0mindex\u001b[0m \u001b[0;34m=\u001b[0m \u001b[0mself\u001b[0m\u001b[0;34m.\u001b[0m\u001b[0m_next_index\u001b[0m\u001b[0;34m(\u001b[0m\u001b[0;34m)\u001b[0m  \u001b[0;31m# may raise StopIteration\u001b[0m\u001b[0;34m\u001b[0m\u001b[0;34m\u001b[0m\u001b[0m\n\u001b[0;32m--> 475\u001b[0;31m         \u001b[0mdata\u001b[0m \u001b[0;34m=\u001b[0m \u001b[0mself\u001b[0m\u001b[0;34m.\u001b[0m\u001b[0m_dataset_fetcher\u001b[0m\u001b[0;34m.\u001b[0m\u001b[0mfetch\u001b[0m\u001b[0;34m(\u001b[0m\u001b[0mindex\u001b[0m\u001b[0;34m)\u001b[0m  \u001b[0;31m# may raise StopIteration\u001b[0m\u001b[0;34m\u001b[0m\u001b[0;34m\u001b[0m\u001b[0m\n\u001b[0m\u001b[1;32m    476\u001b[0m         \u001b[0;32mif\u001b[0m \u001b[0mself\u001b[0m\u001b[0;34m.\u001b[0m\u001b[0m_pin_memory\u001b[0m\u001b[0;34m:\u001b[0m\u001b[0;34m\u001b[0m\u001b[0;34m\u001b[0m\u001b[0m\n\u001b[1;32m    477\u001b[0m             \u001b[0mdata\u001b[0m \u001b[0;34m=\u001b[0m \u001b[0m_utils\u001b[0m\u001b[0;34m.\u001b[0m\u001b[0mpin_memory\u001b[0m\u001b[0;34m.\u001b[0m\u001b[0mpin_memory\u001b[0m\u001b[0;34m(\u001b[0m\u001b[0mdata\u001b[0m\u001b[0;34m)\u001b[0m\u001b[0;34m\u001b[0m\u001b[0;34m\u001b[0m\u001b[0m\n",
            "\u001b[0;32m/usr/local/lib/python3.7/dist-packages/torch/utils/data/_utils/fetch.py\u001b[0m in \u001b[0;36mfetch\u001b[0;34m(self, possibly_batched_index)\u001b[0m\n\u001b[1;32m     42\u001b[0m     \u001b[0;32mdef\u001b[0m \u001b[0mfetch\u001b[0m\u001b[0;34m(\u001b[0m\u001b[0mself\u001b[0m\u001b[0;34m,\u001b[0m \u001b[0mpossibly_batched_index\u001b[0m\u001b[0;34m)\u001b[0m\u001b[0;34m:\u001b[0m\u001b[0;34m\u001b[0m\u001b[0;34m\u001b[0m\u001b[0m\n\u001b[1;32m     43\u001b[0m         \u001b[0;32mif\u001b[0m \u001b[0mself\u001b[0m\u001b[0;34m.\u001b[0m\u001b[0mauto_collation\u001b[0m\u001b[0;34m:\u001b[0m\u001b[0;34m\u001b[0m\u001b[0;34m\u001b[0m\u001b[0m\n\u001b[0;32m---> 44\u001b[0;31m             \u001b[0mdata\u001b[0m \u001b[0;34m=\u001b[0m \u001b[0;34m[\u001b[0m\u001b[0mself\u001b[0m\u001b[0;34m.\u001b[0m\u001b[0mdataset\u001b[0m\u001b[0;34m[\u001b[0m\u001b[0midx\u001b[0m\u001b[0;34m]\u001b[0m \u001b[0;32mfor\u001b[0m \u001b[0midx\u001b[0m \u001b[0;32min\u001b[0m \u001b[0mpossibly_batched_index\u001b[0m\u001b[0;34m]\u001b[0m\u001b[0;34m\u001b[0m\u001b[0;34m\u001b[0m\u001b[0m\n\u001b[0m\u001b[1;32m     45\u001b[0m         \u001b[0;32melse\u001b[0m\u001b[0;34m:\u001b[0m\u001b[0;34m\u001b[0m\u001b[0;34m\u001b[0m\u001b[0m\n\u001b[1;32m     46\u001b[0m             \u001b[0mdata\u001b[0m \u001b[0;34m=\u001b[0m \u001b[0mself\u001b[0m\u001b[0;34m.\u001b[0m\u001b[0mdataset\u001b[0m\u001b[0;34m[\u001b[0m\u001b[0mpossibly_batched_index\u001b[0m\u001b[0;34m]\u001b[0m\u001b[0;34m\u001b[0m\u001b[0;34m\u001b[0m\u001b[0m\n",
            "\u001b[0;32m/usr/local/lib/python3.7/dist-packages/torch/utils/data/_utils/fetch.py\u001b[0m in \u001b[0;36m<listcomp>\u001b[0;34m(.0)\u001b[0m\n\u001b[1;32m     42\u001b[0m     \u001b[0;32mdef\u001b[0m \u001b[0mfetch\u001b[0m\u001b[0;34m(\u001b[0m\u001b[0mself\u001b[0m\u001b[0;34m,\u001b[0m \u001b[0mpossibly_batched_index\u001b[0m\u001b[0;34m)\u001b[0m\u001b[0;34m:\u001b[0m\u001b[0;34m\u001b[0m\u001b[0;34m\u001b[0m\u001b[0m\n\u001b[1;32m     43\u001b[0m         \u001b[0;32mif\u001b[0m \u001b[0mself\u001b[0m\u001b[0;34m.\u001b[0m\u001b[0mauto_collation\u001b[0m\u001b[0;34m:\u001b[0m\u001b[0;34m\u001b[0m\u001b[0;34m\u001b[0m\u001b[0m\n\u001b[0;32m---> 44\u001b[0;31m             \u001b[0mdata\u001b[0m \u001b[0;34m=\u001b[0m \u001b[0;34m[\u001b[0m\u001b[0mself\u001b[0m\u001b[0;34m.\u001b[0m\u001b[0mdataset\u001b[0m\u001b[0;34m[\u001b[0m\u001b[0midx\u001b[0m\u001b[0;34m]\u001b[0m \u001b[0;32mfor\u001b[0m \u001b[0midx\u001b[0m \u001b[0;32min\u001b[0m \u001b[0mpossibly_batched_index\u001b[0m\u001b[0;34m]\u001b[0m\u001b[0;34m\u001b[0m\u001b[0;34m\u001b[0m\u001b[0m\n\u001b[0m\u001b[1;32m     45\u001b[0m         \u001b[0;32melse\u001b[0m\u001b[0;34m:\u001b[0m\u001b[0;34m\u001b[0m\u001b[0;34m\u001b[0m\u001b[0m\n\u001b[1;32m     46\u001b[0m             \u001b[0mdata\u001b[0m \u001b[0;34m=\u001b[0m \u001b[0mself\u001b[0m\u001b[0;34m.\u001b[0m\u001b[0mdataset\u001b[0m\u001b[0;34m[\u001b[0m\u001b[0mpossibly_batched_index\u001b[0m\u001b[0;34m]\u001b[0m\u001b[0;34m\u001b[0m\u001b[0;34m\u001b[0m\u001b[0m\n",
            "\u001b[0;32m<ipython-input-46-3d19587e1834>\u001b[0m in \u001b[0;36m__getitem__\u001b[0;34m(self, index)\u001b[0m\n\u001b[1;32m     12\u001b[0m \u001b[0;34m\u001b[0m\u001b[0m\n\u001b[1;32m     13\u001b[0m         \u001b[0mpath\u001b[0m \u001b[0;34m=\u001b[0m \u001b[0mself\u001b[0m\u001b[0;34m.\u001b[0m\u001b[0mroot\u001b[0m \u001b[0;34m+\u001b[0m \u001b[0;34m\"/\"\u001b[0m \u001b[0;34m+\u001b[0m \u001b[0mitem\u001b[0m\u001b[0;34m[\u001b[0m\u001b[0;36m0\u001b[0m\u001b[0;34m]\u001b[0m\u001b[0;34m\u001b[0m\u001b[0;34m\u001b[0m\u001b[0m\n\u001b[0;32m---> 14\u001b[0;31m         \u001b[0mimage\u001b[0m \u001b[0;34m=\u001b[0m \u001b[0mImage\u001b[0m\u001b[0;34m.\u001b[0m\u001b[0mopen\u001b[0m\u001b[0;34m(\u001b[0m\u001b[0mpath\u001b[0m\u001b[0;34m)\u001b[0m\u001b[0;34m.\u001b[0m\u001b[0mconvert\u001b[0m\u001b[0;34m(\u001b[0m\u001b[0;34m'L'\u001b[0m\u001b[0;34m)\u001b[0m\u001b[0;34m\u001b[0m\u001b[0;34m\u001b[0m\u001b[0m\n\u001b[0m\u001b[1;32m     15\u001b[0m         \u001b[0mlabel\u001b[0m \u001b[0;34m=\u001b[0m \u001b[0mitem\u001b[0m\u001b[0;34m[\u001b[0m\u001b[0;36m1\u001b[0m\u001b[0;34m]\u001b[0m\u001b[0;34m\u001b[0m\u001b[0;34m\u001b[0m\u001b[0m\n\u001b[1;32m     16\u001b[0m \u001b[0;34m\u001b[0m\u001b[0m\n",
            "\u001b[0;32m/usr/local/lib/python3.7/dist-packages/PIL/Image.py\u001b[0m in \u001b[0;36mconvert\u001b[0;34m(self, mode, matrix, dither, palette, colors)\u001b[0m\n\u001b[1;32m    871\u001b[0m         \"\"\"\n\u001b[1;32m    872\u001b[0m \u001b[0;34m\u001b[0m\u001b[0m\n\u001b[0;32m--> 873\u001b[0;31m         \u001b[0mself\u001b[0m\u001b[0;34m.\u001b[0m\u001b[0mload\u001b[0m\u001b[0;34m(\u001b[0m\u001b[0;34m)\u001b[0m\u001b[0;34m\u001b[0m\u001b[0;34m\u001b[0m\u001b[0m\n\u001b[0m\u001b[1;32m    874\u001b[0m \u001b[0;34m\u001b[0m\u001b[0m\n\u001b[1;32m    875\u001b[0m         \u001b[0;32mif\u001b[0m \u001b[0;32mnot\u001b[0m \u001b[0mmode\u001b[0m \u001b[0;32mand\u001b[0m \u001b[0mself\u001b[0m\u001b[0;34m.\u001b[0m\u001b[0mmode\u001b[0m \u001b[0;34m==\u001b[0m \u001b[0;34m\"P\"\u001b[0m\u001b[0;34m:\u001b[0m\u001b[0;34m\u001b[0m\u001b[0;34m\u001b[0m\u001b[0m\n",
            "\u001b[0;32m/usr/local/lib/python3.7/dist-packages/PIL/ImageFile.py\u001b[0m in \u001b[0;36mload\u001b[0;34m(self)\u001b[0m\n\u001b[1;32m    249\u001b[0m \u001b[0;34m\u001b[0m\u001b[0m\n\u001b[1;32m    250\u001b[0m                             \u001b[0mb\u001b[0m \u001b[0;34m=\u001b[0m \u001b[0mb\u001b[0m \u001b[0;34m+\u001b[0m \u001b[0ms\u001b[0m\u001b[0;34m\u001b[0m\u001b[0;34m\u001b[0m\u001b[0m\n\u001b[0;32m--> 251\u001b[0;31m                             \u001b[0mn\u001b[0m\u001b[0;34m,\u001b[0m \u001b[0merr_code\u001b[0m \u001b[0;34m=\u001b[0m \u001b[0mdecoder\u001b[0m\u001b[0;34m.\u001b[0m\u001b[0mdecode\u001b[0m\u001b[0;34m(\u001b[0m\u001b[0mb\u001b[0m\u001b[0;34m)\u001b[0m\u001b[0;34m\u001b[0m\u001b[0;34m\u001b[0m\u001b[0m\n\u001b[0m\u001b[1;32m    252\u001b[0m                             \u001b[0;32mif\u001b[0m \u001b[0mn\u001b[0m \u001b[0;34m<\u001b[0m \u001b[0;36m0\u001b[0m\u001b[0;34m:\u001b[0m\u001b[0;34m\u001b[0m\u001b[0;34m\u001b[0m\u001b[0m\n\u001b[1;32m    253\u001b[0m                                 \u001b[0;32mbreak\u001b[0m\u001b[0;34m\u001b[0m\u001b[0;34m\u001b[0m\u001b[0m\n",
            "\u001b[0;31mKeyboardInterrupt\u001b[0m: "
          ]
        }
      ]
    },
    {
      "cell_type": "markdown",
      "metadata": {
        "id": "ozaCVVkqqEjn"
      },
      "source": [
        "### Load Model and iteration Loss"
      ]
    },
    {
      "cell_type": "code",
      "metadata": {
        "id": "7QH6KiJhqFhL"
      },
      "source": [
        "root_path = '/content/gdrive/My Drive/Data/saved_model/i100000_b200_L0.1_Layer_3_784->500->250->166->10 75%/'\r\n",
        "\r\n",
        "# read train.txt file line by line\r\n",
        "with open(root_path + 'accuracy_loss.txt', \"r\") as loss:\r\n",
        "    FileasList = loss.readlines()\r\n",
        "\r\n",
        "acc_loss = []\r\n",
        "iteration_loss = []\r\n",
        "for i in range(len(FileasList)):\r\n",
        "  if (i == 0):\r\n",
        "    continue\r\n",
        "  acc_loss.append(FileasList[i].split())\r\n",
        "  iteration_loss.append(float(acc_loss[i-1][1]))\r\n",
        "\r\n",
        "\r\n",
        "load_model = True\r\n",
        "\r\n",
        "if load_model is True:\r\n",
        "    model.load_state_dict(torch.load(root_path + 'logistic_i67000_b200_L0.1.pkl'))"
      ],
      "execution_count": null,
      "outputs": []
    },
    {
      "cell_type": "code",
      "metadata": {
        "id": "Awv1qT7qVkSX",
        "colab": {
          "base_uri": "https://localhost:8080/",
          "height": 317
        },
        "outputId": "344ccb3c-252a-46b2-ad2a-9fac855690fb"
      },
      "source": [
        "import matplotlib\r\n",
        "import matplotlib.pyplot as plt\r\n",
        "\r\n",
        "print (iteration_loss)\r\n",
        "plt.plot(iteration_loss)\r\n",
        "plt.ylabel('Cross Entropy Loss')\r\n",
        "plt.xlabel('Iteration (in every 500)')\r\n",
        "plt.show()"
      ],
      "execution_count": null,
      "outputs": [
        {
          "output_type": "stream",
          "text": [
            "[2.306617259979248, 2.325493097305298, 2.251410722732544, 2.2646965980529785, 2.2479844093322754, 2.2689883708953857, 2.2995901107788086, 2.2577004432678223, 2.238097906112671, 2.1877567768096924, 2.2747621536254883, 2.1678991317749023, 2.2208003997802734, 2.2837026119232178, 2.228369951248169, 2.331925868988037, 2.2205376625061035, 2.214029312133789, 2.2939884662628174, 2.2534687519073486, 2.265758752822876, 2.218312978744507, 2.321096181869507, 2.1469390392303467, 2.046705722808838, 2.046894073486328, 2.1665453910827637, 2.0613160133361816, 2.0198702812194824, 2.0058274269104004, 2.124997615814209, 2.0854015350341797, 2.0770363807678223, 2.0727808475494385, 2.1141583919525146, 2.2110936641693115, 2.1382083892822266, 2.1026570796966553, 2.177232027053833, 2.1081511974334717, 2.004509925842285, 2.244546890258789, 2.121522903442383, 1.9599860906600952, 2.173239231109619, 1.96543288230896, 2.0720200538635254, 2.037410020828247, 2.0109922885894775, 2.194748640060425, 1.9265892505645752, 1.8815234899520874, 2.0992441177368164, 2.008810520172119, 1.7543060779571533, 1.9070706367492676, 1.998865008354187, 1.7207298278808594, 1.7949082851409912, 1.7751487493515015, 1.62355637550354, 2.172538995742798, 2.1445248126983643, 1.783393144607544, 1.7443701028823853, 1.8096880912780762, 1.7831486463546753, 2.208557367324829, 1.810219168663025, 1.8116645812988281, 2.0641136169433594, 1.9360407590866089, 1.643549919128418, 1.5406744480133057, 1.9003807306289673, 1.9977062940597534, 2.032918930053711, 1.6378090381622314, 1.6752252578735352, 1.4841810464859009, 1.9593325853347778, 1.5439296960830688, 1.619583249092102, 1.5214333534240723, 1.7697752714157104, 1.4740850925445557, 1.4391310214996338, 1.35015070438385, 1.5301470756530762, 1.3155442476272583, 1.366194725036621, 1.5358303785324097, 1.3837889432907104, 1.3006709814071655, 2.3672924041748047, 1.4541525840759277, 1.5774641036987305, 1.4850751161575317, 1.3950204849243164, 1.8318758010864258, 1.2721344232559204, 1.1353027820587158, 1.2885926961898804, 1.4431484937667847, 1.208174467086792, 1.1832454204559326, 1.3983687162399292, 1.2965092658996582, 1.1682246923446655, 1.527113914489746, 1.110550880432129, 1.087597370147705, 1.5215556621551514, 1.9235512018203735, 1.465736746788025, 1.1211227178573608, 0.9869298338890076, 1.1629379987716675, 1.3215101957321167, 1.0395196676254272, 1.0584065914154053, 1.0178614854812622, 0.9079784154891968, 0.8659617900848389, 1.4221405982971191, 1.2924288511276245, 1.147535800933838, 1.0416008234024048, 0.8436183333396912, 1.1214337348937988, 1.0235553979873657, 1.0812205076217651, 1.5476162433624268, 0.7749993205070496, 0.84405517578125, 2.186134099960327, 2.198319435119629, 2.283153772354126, 2.0392754077911377, 2.28568434715271, 2.24041485786438, 2.2339446544647217, 2.247969627380371, 2.2342147827148438, 2.1996910572052, 2.1859734058380127, 2.27451491355896, 2.203413486480713, 2.286625623703003, 2.1449174880981445, 2.1348869800567627, 2.125563383102417, 2.087528944015503, 2.199591875076294, 2.0785481929779053, 2.074737548828125, 2.0524299144744873, 2.083789110183716, 2.0800559520721436, 2.2619659900665283, 2.1556670665740967, 2.0522620677948, 2.0026168823242188, 2.011589288711548, 1.8933842182159424, 1.9090114831924438, 1.93161940574646, 2.0199427604675293, 2.2612507343292236, 1.926013469696045, 1.9336079359054565, 1.9277621507644653, 1.9770315885543823, 2.0129892826080322, 2.111433506011963, 2.09665584564209, 2.0897421836853027, 2.127673864364624, 2.0417096614837646, 1.9960379600524902, 1.8979495763778687, 1.8058620691299438]\n"
          ],
          "name": "stdout"
        },
        {
          "output_type": "display_data",
          "data": {
            "image/png": "[encoded data removed]",
            "text/plain": [
              "<Figure size 432x288 with 1 Axes>"
            ]
          },
          "metadata": {
            "tags": [],
            "needs_background": "light"
          }
        }
      ]
    },
    {
      "cell_type": "markdown",
      "metadata": {
        "id": "hIKd3ytlr0OG"
      },
      "source": [
        "### Testing Loaded Model with Digits"
      ]
    },
    {
      "cell_type": "code",
      "metadata": {
        "id": "3TjU1y1isCOW",
        "colab": {
          "base_uri": "https://localhost:8080/",
          "height": 109
        },
        "outputId": "1656cef5-973a-42b0-8bc6-a46bed8380ab"
      },
      "source": [
        "for images, labels in test_loader:\n",
        "    break\n",
        "    \n",
        "fig, ax = plt.subplots(1,5)\n",
        "for i in range(5):\n",
        "    ax[i].imshow(images[i].view(28, 28), cmap=matplotlib.cm.binary)\n",
        "\n",
        "plt.show()"
      ],
      "execution_count": null,
      "outputs": [
        {
          "output_type": "display_data",
          "data": {
            "image/png": "[encoded data removed]",
            "text/plain": [
              "<Figure size 432x288 with 5 Axes>"
            ]
          },
          "metadata": {
            "tags": [],
            "needs_background": "light"
          }
        }
      ]
    },
    {
      "cell_type": "code",
      "metadata": {
        "colab": {
          "base_uri": "https://localhost:8080/"
        },
        "id": "invqzPMamlAD",
        "outputId": "8cff7052-4d52-44d1-8295-a4948a038c77"
      },
      "source": [
        "predictions = model.forward(images[:5].view(-1, 28*28).to(device))\r\n",
        "predictions = torch.argmax(predictions, dim=1)\r\n",
        "print('Predicted labels', predictions.cpu().numpy())"
      ],
      "execution_count": null,
      "outputs": [
        {
          "output_type": "stream",
          "text": [
            "Predicted labels [5 7 1 6 6]\n"
          ],
          "name": "stdout"
        }
      ]
    },
    {
      "cell_type": "markdown",
      "metadata": {
        "id": "3W56NTfLEKZm"
      },
      "source": [
        "**Different Settings**"
      ]
    },
    {
      "cell_type": "markdown",
      "metadata": {
        "id": "S719mQj9-p7q"
      },
      "source": [
        "<table>\r\n",
        "<thead>\r\n",
        "  <tr>\r\n",
        "    <th class=\"tg-0pky\" colspan=\"1\"></th>\r\n",
        "    <th class=\"tg-0pky\" colspan=\"1\">Setting 1</th>\r\n",
        "    <th class=\"tg-0pky\" colspan=\"1\">Setting 2</th>\r\n",
        "    <th class=\"tg-0lax\" colspan=\"1\">Setting 3</th>\r\n",
        "  </tr>\r\n",
        "</thead>\r\n",
        "<tbody>\r\n",
        "  <tr>\r\n",
        "    <td class=\"tg-0pky\"><b>Iteration</b></td>\r\n",
        "    <td class=\"tg-0pky\"><center>50000</center></td>\r\n",
        "    <td class=\"tg-0pky\"><center> 100000</center></td>\r\n",
        "    <td class=\"tg-0pky\"><center>50000 </center></td>\r\n",
        "    \r\n",
        "  </tr>\r\n",
        "  <tr>\r\n",
        "    <td class=\"tg-0pky\"><b>Batch Size</b></td>\r\n",
        "    <td class=\"tg-0pky\"><center>150 </center></td>\r\n",
        "    <td class=\"tg-0pky\"><center>200 </center></td>\r\n",
        "    <td class=\"tg-0pky\"><center> 100</center></td>\r\n",
        "  </tr>\r\n",
        "  <tr>\r\n",
        "    <td class=\"tg-0pky\"><b>Learning Rate</b></td>\r\n",
        "    <td class=\"tg-0pky\"><center>0.1 </center></td>\r\n",
        "    <td class=\"tg-0pky\"><center> 0.1</center></td>\r\n",
        "    <td class=\"tg-0pky\"><center>0.01 </center></td>\r\n",
        "  </tr>\r\n",
        "  <tr>\r\n",
        "    <td class=\"tg-0pky\"><b>Hidden Layer</b></td>\r\n",
        "    <td class=\"tg-0pky\"><center> 4</center></td>\r\n",
        "    <td class=\"tg-0pky\"><center>3 </center></td>\r\n",
        "    <td class=\"tg-0pky\"><center> 3</center></td>\r\n",
        "  </tr>\r\n",
        "  <tr>\r\n",
        "    <td class=\"tg-0pky\"><b>Activatin Function</b></td>\r\n",
        "    <td class=\"tg-0pky\"><center> nn.ReLU</center></td>\r\n",
        "    <td class=\"tg-0pky\"><center> nn.ReLU</center></td>\r\n",
        "    <td class=\"tg-0pky\"><center>nn.ReLU<br>nn.Softmax </center></td>\r\n",
        "  </tr>\r\n",
        "  <tr>\r\n",
        "    <td class=\"tg-0pky\"><b>Nodes in Layer</b></td>\r\n",
        "    <td class=\"tg-0pky\"><center>784 -> 500<br>500 -> 250<br>250 -> 166</br>166 -> 125<br>125 -> 10 </center></td>\r\n",
        "    <td class=\"tg-0pky\"><center> 784 -> 500<br>500 -> 250<br>250 -> 166</br>166 -> 10  </center></td>\r\n",
        "    <td class=\"tg-0pky\"><center>784 -> 100<br>100 -> 100<br>100 -> 100</br>100 -> 10   </center></td>\r\n",
        "  </tr>\r\n",
        "\r\n",
        "</tbody>\r\n",
        "\r\n",
        "</table>"
      ]
    },
    {
      "cell_type": "markdown",
      "metadata": {
        "id": "SEyfwUNNAcYJ"
      },
      "source": [
        "**Result:**\r\n",
        "<table>\r\n",
        "<thead>\r\n",
        "  <tr>\r\n",
        "    <th class=\"tg-0pky\" colspan=\"2\">Setting 1</th>\r\n",
        "    <th class=\"tg-0pky\" colspan=\"2\">Setting 2</th>\r\n",
        "    <th class=\"tg-0lax\" colspan=\"2\">Setting 3</th>\r\n",
        "  </tr>\r\n",
        "</thead>\r\n",
        "<tbody>\r\n",
        "  <tr>\r\n",
        "    <td class=\"tg-0pky\"><b>iteration</b></td>\r\n",
        "    <td class=\"tg-0pky\"><b>accuracy</b></td>\r\n",
        "    <td class=\"tg-0pky\"><b>iteration</b><br></td>\r\n",
        "    <td class=\"tg-0pky\"><b>accuracy</b></td>\r\n",
        "    <td class=\"tg-0lax\"><b>iteration</b></td>\r\n",
        "    <td class=\"tg-0lax\"><b>accuracy</b></td>\r\n",
        "  </tr>\r\n",
        "  <tr>\r\n",
        "    <td class=\"tg-0pky\">1000</td>\r\n",
        "    <td class=\"tg-0pky\">10.54</td>\r\n",
        "    <td class=\"tg-0pky\">1000</td>\r\n",
        "    <td class=\"tg-0pky\">17.75</td>\r\n",
        "    <td class=\"tg-0lax\">1000</td>\r\n",
        "    <td class=\"tg-0lax\">9.65</td>\r\n",
        "  </tr>\r\n",
        "  <tr>\r\n",
        "    <td class=\"tg-0pky\">3000</td>\r\n",
        "    <td class=\"tg-0pky\">22.67</td>\r\n",
        "    <td class=\"tg-0pky\">3000</td>\r\n",
        "    <td class=\"tg-0pky\">21.67</td>\r\n",
        "    <td class=\"tg-0lax\">3000</td>\r\n",
        "    <td class=\"tg-0lax\">10.90</td>\r\n",
        "  </tr>\r\n",
        "  <tr>\r\n",
        "    <td class=\"tg-0pky\">6000</td>\r\n",
        "    <td class=\"tg-0pky\">21.39</td>\r\n",
        "    <td class=\"tg-0pky\">8000</td>\r\n",
        "    <td class=\"tg-0pky\">17.70</td>\r\n",
        "    <td class=\"tg-0lax\">5000</td>\r\n",
        "    <td class=\"tg-0lax\">21.38</td>\r\n",
        "  </tr>\r\n",
        "  <tr>\r\n",
        "    <td class=\"tg-0pky\">7500</td>\r\n",
        "    <td class=\"tg-0pky\">24.73</td>\r\n",
        "    <td class=\"tg-0pky\">12500</td>\r\n",
        "    <td class=\"tg-0pky\">25.76</td>\r\n",
        "    <td class=\"tg-0lax\">7000</td>\r\n",
        "    <td class=\"tg-0lax\">18.46</td>\r\n",
        "  </tr>\r\n",
        "  <tr>\r\n",
        "    <td class=\"tg-0pky\">9500</td>\r\n",
        "    <td class=\"tg-0pky\">28.13</td>\r\n",
        "    <td class=\"tg-0pky\">22000</td>\r\n",
        "    <td class=\"tg-0pky\">29.22</td>\r\n",
        "    <td class=\"tg-0lax\">9500</td>\r\n",
        "    <td class=\"tg-0lax\">25.95</td>\r\n",
        "  </tr>\r\n",
        "  <tr>\r\n",
        "    <td class=\"tg-0pky\">12000</td>\r\n",
        "    <td class=\"tg-0pky\">30.61</td>\r\n",
        "    <td class=\"tg-0pky\">30000</td>\r\n",
        "    <td class=\"tg-0pky\">36.95</td>\r\n",
        "    <td class=\"tg-0lax\">11500</td>\r\n",
        "    <td class=\"tg-0lax\">15.57</td>\r\n",
        "  </tr>\r\n",
        "  <tr>\r\n",
        "    <td class=\"tg-0pky\">13500</td>\r\n",
        "    <td class=\"tg-0pky\">32.45</td>\r\n",
        "    <td class=\"tg-0pky\">33500</td>\r\n",
        "    <td class=\"tg-0pky\">43.01</td>\r\n",
        "    <td class=\"tg-0lax\">12500</td>\r\n",
        "    <td class=\"tg-0lax\">33.09</td>\r\n",
        "  </tr>\r\n",
        "  <tr>\r\n",
        "    <td class=\"tg-0pky\">17000</td>\r\n",
        "    <td class=\"tg-0pky\">19.37</td>\r\n",
        "    <td class=\"tg-0pky\">37000</td>\r\n",
        "    <td class=\"tg-0pky\">44.83</td>\r\n",
        "    <td class=\"tg-0lax\">15000</td>\r\n",
        "    <td class=\"tg-0lax\">27.39</td>\r\n",
        "  </tr>\r\n",
        "  <tr>\r\n",
        "    <td class=\"tg-0pky\">25000</td>\r\n",
        "    <td class=\"tg-0pky\">41.99</td>\r\n",
        "    <td class=\"tg-0pky\">41000</td>\r\n",
        "    <td class=\"tg-0pky\">48.53</td>\r\n",
        "    <td class=\"tg-0lax\">17000</td>\r\n",
        "    <td class=\"tg-0lax\">30.23</td>\r\n",
        "  </tr>\r\n",
        "  <tr>\r\n",
        "    <td class=\"tg-0pky\">29000</td>\r\n",
        "    <td class=\"tg-0pky\">42.32</td>\r\n",
        "    <td class=\"tg-0pky\">61500</td>\r\n",
        "    <td class=\"tg-0pky\">66.94</td>\r\n",
        "    <td class=\"tg-0lax\">18500</td>\r\n",
        "    <td class=\"tg-0lax\">15.86</td>\r\n",
        "  </tr>\r\n",
        "  <tr>\r\n",
        "    <td class=\"tg-0pky\">30000</td>\r\n",
        "    <td class=\"tg-0pky\">49.06</td>\r\n",
        "    <td class=\"tg-0pky\">67000</td>\r\n",
        "    <td class=\"tg-0pky\"><b>75.54</b></td>\r\n",
        "    <td class=\"tg-0lax\">20000</td>\r\n",
        "    <td class=\"tg-0lax\">38.49</td>\r\n",
        "  </tr>\r\n",
        "  <tr>\r\n",
        "    <td class=\"tg-0pky\">35000</td>\r\n",
        "    <td class=\"tg-0pky\">37.20</td>\r\n",
        "    <td class=\"tg-0pky\">69000</td>\r\n",
        "    <td class=\"tg-0pky\">14.24</td>\r\n",
        "    <td class=\"tg-0lax\">22000</td>\r\n",
        "    <td class=\"tg-0lax\">20.96</td>\r\n",
        "  </tr>\r\n",
        "  <tr>\r\n",
        "    <td class=\"tg-0pky\">40000</td>\r\n",
        "    <td class=\"tg-0pky\">62.64</td>\r\n",
        "    <td class=\"tg-0pky\">72000</td>\r\n",
        "    <td class=\"tg-0pky\">15.33</td>\r\n",
        "    <td class=\"tg-0lax\">24000</td>\r\n",
        "    <td class=\"tg-0lax\">30.34</td>\r\n",
        "  </tr>\r\n",
        "  <tr>\r\n",
        "    <td class=\"tg-0pky\">42000</td>\r\n",
        "    <td class=\"tg-0pky\"><b>68.13</b></td>\r\n",
        "    <td class=\"tg-0pky\">76000</td>\r\n",
        "    <td class=\"tg-0pky\">26.13</td>\r\n",
        "    <td class=\"tg-0lax\">34000</td>\r\n",
        "    <td class=\"tg-0lax\">43.30</td>\r\n",
        "  </tr>\r\n",
        "  <tr>\r\n",
        "    <td class=\"tg-0pky\">44000</td>\r\n",
        "    <td class=\"tg-0pky\">51.50</td>\r\n",
        "    <td class=\"tg-0pky\">80000</td>\r\n",
        "    <td class=\"tg-0pky\">16.68</td>\r\n",
        "    <td class=\"tg-0lax\">38000</td>\r\n",
        "    <td class=\"tg-0lax\"><b>52.59</b></td>\r\n",
        "  </tr>\r\n",
        "  <tr>\r\n",
        "    <td class=\"tg-0pky\">47000</td>\r\n",
        "    <td class=\"tg-0pky\">37.62</td>\r\n",
        "    <td class=\"tg-0pky\">85000</td>\r\n",
        "    <td class=\"tg-0pky\">32.27</td>\r\n",
        "    <td class=\"tg-0lax\">39000</td>\r\n",
        "    <td class=\"tg-0lax\">49.71</td>\r\n",
        "  </tr>\r\n",
        "  <tr>\r\n",
        "    <td class=\"tg-0pky\">49000</td>\r\n",
        "    <td class=\"tg-0pky\">39.37</td>\r\n",
        "    <td class=\"tg-0pky\">90000</td>\r\n",
        "    <td class=\"tg-0pky\">30.04</td>\r\n",
        "    <td class=\"tg-0lax\">40500</td>\r\n",
        "    <td class=\"tg-0lax\">35.23</td>\r\n",
        "  </tr>\r\n",
        "  \r\n",
        "\r\n",
        "</tbody>\r\n",
        "</table>"
      ]
    },
    {
      "cell_type": "markdown",
      "metadata": {
        "id": "i0byVQqNThpJ"
      },
      "source": [
        "**Result Analysis:** I trained our model using different hyperperameters to determine the best hyperperameter to train our model. Setting 2 gives us more accuracy among them. Highest accuracy of our Model is **75.54%** at 23000 no iteration."
      ]
    }
  ]
}